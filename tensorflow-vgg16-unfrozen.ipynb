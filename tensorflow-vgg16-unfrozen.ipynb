{
 "cells": [
  {
   "cell_type": "markdown",
   "metadata": {},
   "source": [
    "# Setup"
   ]
  },
  {
   "cell_type": "markdown",
   "metadata": {},
   "source": [
    "Import the libraries and methods needed for the project."
   ]
  },
  {
   "cell_type": "code",
   "execution_count": 1,
   "metadata": {
    "execution": {
     "iopub.execute_input": "2021-08-27T18:30:17.645109Z",
     "iopub.status.busy": "2021-08-27T18:30:17.644742Z",
     "iopub.status.idle": "2021-08-27T18:30:19.646444Z",
     "shell.execute_reply": "2021-08-27T18:30:19.643353Z",
     "shell.execute_reply.started": "2021-08-27T18:30:17.645026Z"
    }
   },
   "outputs": [],
   "source": [
    "import matplotlib.pyplot as plt\n",
    "import tensorflow as tf\n",
    "from tensorflow.random import set_seed\n",
    "import tensorflow_datasets as tfds\n",
    "from tensorflow.keras import (\n",
    "    Sequential,\n",
    "    Input, \n",
    "    Model\n",
    ")\n",
    "from tensorflow.keras.applications.vgg16 import VGG16\n",
    "from tensorflow.keras.layers import (\n",
    "    Flatten,\n",
    "    Dense,\n",
    "    Dropout\n",
    ")\n",
    "from tensorflow.keras.layers.experimental.preprocessing import (\n",
    "    RandomFlip,\n",
    "    RandomRotation,\n",
    "    RandomZoom\n",
    ")\n",
    "from tensorflow.keras.optimizers import Adam\n",
    "from tensorflow.keras.losses import SparseCategoricalCrossentropy\n",
    "from tensorflow.keras.metrics import SparseCategoricalAccuracy"
   ]
  },
  {
   "cell_type": "markdown",
   "metadata": {},
   "source": [
    "Set the global random number seed to ensure reproducibility."
   ]
  },
  {
   "cell_type": "code",
   "execution_count": 2,
   "metadata": {
    "execution": {
     "iopub.execute_input": "2021-08-27T18:30:25.015896Z",
     "iopub.status.busy": "2021-08-27T18:30:25.015556Z",
     "iopub.status.idle": "2021-08-27T18:30:25.020206Z",
     "shell.execute_reply": "2021-08-27T18:30:25.019057Z",
     "shell.execute_reply.started": "2021-08-27T18:30:25.015866Z"
    }
   },
   "outputs": [],
   "source": [
    "set_seed(555)"
   ]
  },
  {
   "cell_type": "markdown",
   "metadata": {},
   "source": [
    "# Helper function"
   ]
  },
  {
   "cell_type": "markdown",
   "metadata": {},
   "source": [
    "Define a helper function to plot the training and validation metrics."
   ]
  },
  {
   "cell_type": "code",
   "execution_count": 3,
   "metadata": {
    "execution": {
     "iopub.execute_input": "2021-08-27T18:30:28.770304Z",
     "iopub.status.busy": "2021-08-27T18:30:28.769954Z",
     "iopub.status.idle": "2021-08-27T18:30:28.776393Z",
     "shell.execute_reply": "2021-08-27T18:30:28.775374Z",
     "shell.execute_reply.started": "2021-08-27T18:30:28.770273Z"
    }
   },
   "outputs": [],
   "source": [
    "def plot_graphs(history, metric):\n",
    "    plt.plot(history.history[metric])\n",
    "    plt.plot(history.history[\"val_\" + metric], \"\")\n",
    "    plt.xlabel(\"Epochs\")\n",
    "    plt.ylabel(metric)\n",
    "    plt.legend([metric, \"val_\" + metric])"
   ]
  },
  {
   "cell_type": "markdown",
   "metadata": {},
   "source": [
    "# Load the data"
   ]
  },
  {
   "cell_type": "markdown",
   "metadata": {},
   "source": [
    "Load the STL-10 data from the TensorFlow Datasets collection."
   ]
  },
  {
   "cell_type": "code",
   "execution_count": 4,
   "metadata": {
    "execution": {
     "iopub.execute_input": "2021-08-27T18:30:32.704060Z",
     "iopub.status.busy": "2021-08-27T18:30:32.703738Z",
     "iopub.status.idle": "2021-08-27T18:30:33.871706Z",
     "shell.execute_reply": "2021-08-27T18:30:33.870867Z",
     "shell.execute_reply.started": "2021-08-27T18:30:32.704032Z"
    }
   },
   "outputs": [],
   "source": [
    "(train, test), info = tfds.load(name = \"stl10\",\n",
    "                                split = [\"train\", \"test\"],\n",
    "                                shuffle_files = True,\n",
    "                                as_supervised = True,\n",
    "                                with_info = True)"
   ]
  },
  {
   "cell_type": "markdown",
   "metadata": {},
   "source": [
    "# Build the training pipeline"
   ]
  },
  {
   "cell_type": "markdown",
   "metadata": {},
   "source": [
    "Fix the autotune, buffer size and batch size parameters."
   ]
  },
  {
   "cell_type": "code",
   "execution_count": 5,
   "metadata": {
    "execution": {
     "iopub.execute_input": "2021-08-27T18:30:38.028759Z",
     "iopub.status.busy": "2021-08-27T18:30:38.028392Z",
     "iopub.status.idle": "2021-08-27T18:30:38.033435Z",
     "shell.execute_reply": "2021-08-27T18:30:38.032009Z",
     "shell.execute_reply.started": "2021-08-27T18:30:38.028729Z"
    }
   },
   "outputs": [],
   "source": [
    "AUTOTUNE = tf.data.experimental.AUTOTUNE\n",
    "BUFFER_SIZE = info.splits[\"train\"].num_examples\n",
    "BATCH_SIZE = 128"
   ]
  },
  {
   "cell_type": "markdown",
   "metadata": {},
   "source": [
    "Define a function to convert images from the tf.uint8 data type to the tf.float32 data type and normalize them."
   ]
  },
  {
   "cell_type": "code",
   "execution_count": 6,
   "metadata": {
    "execution": {
     "iopub.execute_input": "2021-08-27T18:30:41.488240Z",
     "iopub.status.busy": "2021-08-27T18:30:41.487890Z",
     "iopub.status.idle": "2021-08-27T18:30:41.493777Z",
     "shell.execute_reply": "2021-08-27T18:30:41.492729Z",
     "shell.execute_reply.started": "2021-08-27T18:30:41.488208Z"
    }
   },
   "outputs": [],
   "source": [
    "def NormalizeImage(image, label):\n",
    "    return tf.cast(x = image,\n",
    "                   dtype = tf.float32), label"
   ]
  },
  {
   "cell_type": "markdown",
   "metadata": {},
   "source": [
    "Compose the training pipeline by applying a sequence of transformations:\n",
    "\n",
    "- Caching before shuffling for better performance\n",
    "- Shuffling by setting the shuffle buffer size to be equal to the full dataset size, to ensure true randomness\n",
    "- Batching after shuffling to ensure I get unique batches at each epoch\n",
    "- Ending the pipeline by prefetching for performance reasons"
   ]
  },
  {
   "cell_type": "code",
   "execution_count": 7,
   "metadata": {
    "execution": {
     "iopub.execute_input": "2021-08-27T18:30:46.024160Z",
     "iopub.status.busy": "2021-08-27T18:30:46.023833Z",
     "iopub.status.idle": "2021-08-27T18:30:46.068211Z",
     "shell.execute_reply": "2021-08-27T18:30:46.067471Z",
     "shell.execute_reply.started": "2021-08-27T18:30:46.024130Z"
    }
   },
   "outputs": [],
   "source": [
    "train = train.map(NormalizeImage,\n",
    "                  num_parallel_calls = AUTOTUNE)\n",
    "train = train.cache()\n",
    "train = train.shuffle(BUFFER_SIZE)\n",
    "train = train.batch(BATCH_SIZE)\n",
    "train = train.prefetch(AUTOTUNE)"
   ]
  },
  {
   "cell_type": "markdown",
   "metadata": {},
   "source": [
    "# Build the testing pipeline"
   ]
  },
  {
   "cell_type": "markdown",
   "metadata": {},
   "source": [
    "The testing pipeline is almost identical to the training pipeline, except for two differences:\n",
    "\n",
    "- Shuffling isn't performed\n",
    "- Caching is done after batching, since batches may be the same between epochs"
   ]
  },
  {
   "cell_type": "code",
   "execution_count": 8,
   "metadata": {
    "execution": {
     "iopub.execute_input": "2021-08-27T18:30:49.980427Z",
     "iopub.status.busy": "2021-08-27T18:30:49.980087Z",
     "iopub.status.idle": "2021-08-27T18:30:49.994171Z",
     "shell.execute_reply": "2021-08-27T18:30:49.993278Z",
     "shell.execute_reply.started": "2021-08-27T18:30:49.980381Z"
    }
   },
   "outputs": [],
   "source": [
    "test = test.map(NormalizeImage,\n",
    "                num_parallel_calls = AUTOTUNE)\n",
    "test = test.batch(BATCH_SIZE)\n",
    "test = test.cache()\n",
    "test = test.prefetch(AUTOTUNE)"
   ]
  },
  {
   "cell_type": "markdown",
   "metadata": {},
   "source": [
    "# Define the data augmentation scheme"
   ]
  },
  {
   "cell_type": "markdown",
   "metadata": {},
   "source": [
    "Lay out the data augmentation strategy that will be used to add diversity to the dataset."
   ]
  },
  {
   "cell_type": "code",
   "execution_count": 9,
   "metadata": {
    "execution": {
     "iopub.execute_input": "2021-08-27T18:30:54.093566Z",
     "iopub.status.busy": "2021-08-27T18:30:54.093212Z",
     "iopub.status.idle": "2021-08-27T18:30:54.116975Z",
     "shell.execute_reply": "2021-08-27T18:30:54.116103Z",
     "shell.execute_reply.started": "2021-08-27T18:30:54.093534Z"
    }
   },
   "outputs": [],
   "source": [
    "data_augmentation = Sequential([\n",
    "    RandomFlip(mode = \"horizontal\"),\n",
    "    RandomRotation(factor = 0.1),\n",
    "    RandomZoom(height_factor = [-0.1, 0.1],\n",
    "               width_factor = [-0.1, 0.1])\n",
    "])"
   ]
  },
  {
   "cell_type": "markdown",
   "metadata": {},
   "source": [
    "# Load a pre-trained base"
   ]
  },
  {
   "cell_type": "markdown",
   "metadata": {},
   "source": [
    "Load the pre-trained base of the VGG16 model trained on ImageNet."
   ]
  },
  {
   "cell_type": "code",
   "execution_count": 10,
   "metadata": {
    "execution": {
     "iopub.execute_input": "2021-08-27T18:30:58.151010Z",
     "iopub.status.busy": "2021-08-27T18:30:58.150645Z",
     "iopub.status.idle": "2021-08-27T18:30:58.447029Z",
     "shell.execute_reply": "2021-08-27T18:30:58.446139Z",
     "shell.execute_reply.started": "2021-08-27T18:30:58.150980Z"
    }
   },
   "outputs": [],
   "source": [
    "pretrained_base = VGG16(include_top = False,\n",
    "                        weights = \"imagenet\",\n",
    "                        input_shape = [96, 96, 3])"
   ]
  },
  {
   "cell_type": "markdown",
   "metadata": {},
   "source": [
    "Unfreeze the pre-trained base so that the learning from the ImageNet dataset is destroyed and must be relearnt from scratch on the new STL-10 dataset."
   ]
  },
  {
   "cell_type": "code",
   "execution_count": 11,
   "metadata": {
    "execution": {
     "iopub.execute_input": "2021-08-27T18:31:01.977077Z",
     "iopub.status.busy": "2021-08-27T18:31:01.976729Z",
     "iopub.status.idle": "2021-08-27T18:31:01.983851Z",
     "shell.execute_reply": "2021-08-27T18:31:01.982692Z",
     "shell.execute_reply.started": "2021-08-27T18:31:01.977046Z"
    }
   },
   "outputs": [],
   "source": [
    "pretrained_base.trainable = True"
   ]
  },
  {
   "cell_type": "markdown",
   "metadata": {},
   "source": [
    "# Define the model"
   ]
  },
  {
   "cell_type": "markdown",
   "metadata": {},
   "source": [
    "Define the inputs and outputs."
   ]
  },
  {
   "cell_type": "code",
   "execution_count": 12,
   "metadata": {
    "execution": {
     "iopub.execute_input": "2021-08-27T18:31:06.566140Z",
     "iopub.status.busy": "2021-08-27T18:31:06.565757Z",
     "iopub.status.idle": "2021-08-27T18:31:06.830496Z",
     "shell.execute_reply": "2021-08-27T18:31:06.829681Z",
     "shell.execute_reply.started": "2021-08-27T18:31:06.566106Z"
    }
   },
   "outputs": [],
   "source": [
    "inputs = Input(shape = [96, 96, 3])\n",
    "\n",
    "x = data_augmentation(inputs)\n",
    "\n",
    "x = pretrained_base(x,\n",
    "                    training = True)\n",
    "\n",
    "x = Flatten()(x)\n",
    "\n",
    "x = Dense(units = 512,\n",
    "          activation = \"relu\")(x)\n",
    "\n",
    "x = Dropout(rate = 0.2)(x)\n",
    "\n",
    "outputs = Dense(units = 10,\n",
    "                activation = \"softmax\")(x)"
   ]
  },
  {
   "cell_type": "markdown",
   "metadata": {},
   "source": [
    "Combine the inputs and the outputs to create the model."
   ]
  },
  {
   "cell_type": "code",
   "execution_count": 13,
   "metadata": {
    "execution": {
     "iopub.execute_input": "2021-08-27T18:31:10.689587Z",
     "iopub.status.busy": "2021-08-27T18:31:10.689220Z",
     "iopub.status.idle": "2021-08-27T18:31:10.698489Z",
     "shell.execute_reply": "2021-08-27T18:31:10.697352Z",
     "shell.execute_reply.started": "2021-08-27T18:31:10.689554Z"
    }
   },
   "outputs": [],
   "source": [
    "model = Model(inputs, outputs)"
   ]
  },
  {
   "cell_type": "markdown",
   "metadata": {},
   "source": [
    "View a summary of all layers in the model."
   ]
  },
  {
   "cell_type": "code",
   "execution_count": 14,
   "metadata": {
    "execution": {
     "iopub.execute_input": "2021-08-27T18:31:14.132776Z",
     "iopub.status.busy": "2021-08-27T18:31:14.132362Z",
     "iopub.status.idle": "2021-08-27T18:31:14.146991Z",
     "shell.execute_reply": "2021-08-27T18:31:14.146090Z",
     "shell.execute_reply.started": "2021-08-27T18:31:14.132745Z"
    }
   },
   "outputs": [
    {
     "name": "stdout",
     "output_type": "stream",
     "text": [
      "Model: \"model\"\n",
      "_________________________________________________________________\n",
      "Layer (type)                 Output Shape              Param #   \n",
      "=================================================================\n",
      "input_2 (InputLayer)         [(None, 96, 96, 3)]       0         \n",
      "_________________________________________________________________\n",
      "sequential (Sequential)      (None, 96, 96, 3)         0         \n",
      "_________________________________________________________________\n",
      "vgg16 (Functional)           (None, 3, 3, 512)         14714688  \n",
      "_________________________________________________________________\n",
      "flatten (Flatten)            (None, 4608)              0         \n",
      "_________________________________________________________________\n",
      "dense (Dense)                (None, 512)               2359808   \n",
      "_________________________________________________________________\n",
      "dropout (Dropout)            (None, 512)               0         \n",
      "_________________________________________________________________\n",
      "dense_1 (Dense)              (None, 10)                5130      \n",
      "=================================================================\n",
      "Total params: 17,079,626\n",
      "Trainable params: 17,079,626\n",
      "Non-trainable params: 0\n",
      "_________________________________________________________________\n"
     ]
    }
   ],
   "source": [
    "model.summary()"
   ]
  },
  {
   "cell_type": "markdown",
   "metadata": {},
   "source": [
    "Observe that all the parameters in the convolutional base of VGG16 are unfrozen and need to be trained from scratch."
   ]
  },
  {
   "cell_type": "markdown",
   "metadata": {},
   "source": [
    "# Compile the model"
   ]
  },
  {
   "cell_type": "markdown",
   "metadata": {},
   "source": [
    "Compile the model using an optimizer, a loss function and a metric."
   ]
  },
  {
   "cell_type": "code",
   "execution_count": 15,
   "metadata": {
    "execution": {
     "iopub.execute_input": "2021-08-27T18:31:21.043800Z",
     "iopub.status.busy": "2021-08-27T18:31:21.043458Z",
     "iopub.status.idle": "2021-08-27T18:31:21.067321Z",
     "shell.execute_reply": "2021-08-27T18:31:21.066559Z",
     "shell.execute_reply.started": "2021-08-27T18:31:21.043771Z"
    }
   },
   "outputs": [],
   "source": [
    "model.compile(optimizer = Adam(),\n",
    "              loss = SparseCategoricalCrossentropy(from_logits = True),\n",
    "              metrics = [SparseCategoricalAccuracy()])"
   ]
  },
  {
   "cell_type": "markdown",
   "metadata": {},
   "source": [
    "# Train the model"
   ]
  },
  {
   "cell_type": "markdown",
   "metadata": {},
   "source": [
    "Train the model for 20 epochs."
   ]
  },
  {
   "cell_type": "code",
   "execution_count": 16,
   "metadata": {
    "execution": {
     "iopub.execute_input": "2021-08-27T18:31:25.598479Z",
     "iopub.status.busy": "2021-08-27T18:31:25.598121Z",
     "iopub.status.idle": "2021-08-27T18:34:36.222391Z",
     "shell.execute_reply": "2021-08-27T18:34:36.221480Z",
     "shell.execute_reply.started": "2021-08-27T18:31:25.598446Z"
    }
   },
   "outputs": [
    {
     "name": "stdout",
     "output_type": "stream",
     "text": [
      "Epoch 1/20\n",
      "40/40 [==============================] - 20s 311ms/step - loss: 13.5330 - sparse_categorical_accuracy: 0.0971 - val_loss: 2.3027 - val_sparse_categorical_accuracy: 0.1000\n",
      "Epoch 2/20\n",
      "40/40 [==============================] - 9s 226ms/step - loss: 2.3030 - sparse_categorical_accuracy: 0.0971 - val_loss: 2.3026 - val_sparse_categorical_accuracy: 0.1000\n",
      "Epoch 3/20\n",
      "40/40 [==============================] - 9s 227ms/step - loss: 2.3026 - sparse_categorical_accuracy: 0.0912 - val_loss: 2.3026 - val_sparse_categorical_accuracy: 0.1000\n",
      "Epoch 4/20\n",
      "40/40 [==============================] - 9s 225ms/step - loss: 2.3026 - sparse_categorical_accuracy: 0.0999 - val_loss: 2.3026 - val_sparse_categorical_accuracy: 0.1000\n",
      "Epoch 5/20\n",
      "40/40 [==============================] - 9s 226ms/step - loss: 2.3027 - sparse_categorical_accuracy: 0.1003 - val_loss: 2.3026 - val_sparse_categorical_accuracy: 0.1000\n",
      "Epoch 6/20\n",
      "40/40 [==============================] - 9s 227ms/step - loss: 2.3026 - sparse_categorical_accuracy: 0.0993 - val_loss: 2.3026 - val_sparse_categorical_accuracy: 0.1000\n",
      "Epoch 7/20\n",
      "40/40 [==============================] - 9s 226ms/step - loss: 2.3026 - sparse_categorical_accuracy: 0.1026 - val_loss: 2.3026 - val_sparse_categorical_accuracy: 0.1000\n",
      "Epoch 8/20\n",
      "40/40 [==============================] - 9s 226ms/step - loss: 2.3026 - sparse_categorical_accuracy: 0.1047 - val_loss: 2.3026 - val_sparse_categorical_accuracy: 0.1000\n",
      "Epoch 9/20\n",
      "40/40 [==============================] - 9s 225ms/step - loss: 2.3025 - sparse_categorical_accuracy: 0.1019 - val_loss: 2.3026 - val_sparse_categorical_accuracy: 0.1000\n",
      "Epoch 10/20\n",
      "40/40 [==============================] - 9s 227ms/step - loss: 2.3027 - sparse_categorical_accuracy: 0.0924 - val_loss: 2.3026 - val_sparse_categorical_accuracy: 0.1000\n",
      "Epoch 11/20\n",
      "40/40 [==============================] - 9s 226ms/step - loss: 2.3027 - sparse_categorical_accuracy: 0.0985 - val_loss: 2.3026 - val_sparse_categorical_accuracy: 0.1000\n",
      "Epoch 12/20\n",
      "40/40 [==============================] - 9s 225ms/step - loss: 2.3026 - sparse_categorical_accuracy: 0.0961 - val_loss: 2.3026 - val_sparse_categorical_accuracy: 0.1000\n",
      "Epoch 13/20\n",
      "40/40 [==============================] - 9s 225ms/step - loss: 2.3027 - sparse_categorical_accuracy: 0.0956 - val_loss: 2.3026 - val_sparse_categorical_accuracy: 0.1000\n",
      "Epoch 14/20\n",
      "40/40 [==============================] - 9s 227ms/step - loss: 2.3026 - sparse_categorical_accuracy: 0.0993 - val_loss: 2.3026 - val_sparse_categorical_accuracy: 0.1000\n",
      "Epoch 15/20\n",
      "40/40 [==============================] - 9s 225ms/step - loss: 2.3027 - sparse_categorical_accuracy: 0.0968 - val_loss: 2.3026 - val_sparse_categorical_accuracy: 0.1000\n",
      "Epoch 16/20\n",
      "40/40 [==============================] - 9s 226ms/step - loss: 2.3026 - sparse_categorical_accuracy: 0.0934 - val_loss: 2.3026 - val_sparse_categorical_accuracy: 0.1000\n",
      "Epoch 17/20\n",
      "40/40 [==============================] - 9s 226ms/step - loss: 2.3026 - sparse_categorical_accuracy: 0.1050 - val_loss: 2.3026 - val_sparse_categorical_accuracy: 0.1000\n",
      "Epoch 18/20\n",
      "40/40 [==============================] - 9s 227ms/step - loss: 2.3027 - sparse_categorical_accuracy: 0.0933 - val_loss: 2.3026 - val_sparse_categorical_accuracy: 0.1000\n",
      "Epoch 19/20\n",
      "40/40 [==============================] - 9s 225ms/step - loss: 2.3027 - sparse_categorical_accuracy: 0.1050 - val_loss: 2.3026 - val_sparse_categorical_accuracy: 0.1000\n",
      "Epoch 20/20\n",
      "40/40 [==============================] - 9s 225ms/step - loss: 2.3026 - sparse_categorical_accuracy: 0.1007 - val_loss: 2.3026 - val_sparse_categorical_accuracy: 0.1000\n"
     ]
    }
   ],
   "source": [
    "history = model.fit(train,\n",
    "                    epochs = 20,\n",
    "                    validation_data = test)"
   ]
  },
  {
   "cell_type": "markdown",
   "metadata": {},
   "source": [
    "Plot the training and validation loss and sparse accuracy from the training history."
   ]
  },
  {
   "cell_type": "code",
   "execution_count": 17,
   "metadata": {
    "execution": {
     "iopub.execute_input": "2021-08-27T18:34:39.896493Z",
     "iopub.status.busy": "2021-08-27T18:34:39.896126Z",
     "iopub.status.idle": "2021-08-27T18:34:40.397366Z",
     "shell.execute_reply": "2021-08-27T18:34:40.396563Z",
     "shell.execute_reply.started": "2021-08-27T18:34:39.896457Z"
    }
   },
   "outputs": [
    {
     "data": {
      "text/plain": [
       "(0.0, 7.193347239494324)"
      ]
     },
     "execution_count": 17,
     "metadata": {},
     "output_type": "execute_result"
    },
    {
     "data": {
      "image/png": "[encoded data removed]",
      "text/plain": [
       "<Figure size 1152x576 with 2 Axes>"
      ]
     },
     "metadata": {
      "needs_background": "light"
     },
     "output_type": "display_data"
    }
   ],
   "source": [
    "plt.figure(figsize = [16, 8])\n",
    "plt.subplot(1, 2, 1)\n",
    "plot_graphs(history, \"sparse_categorical_accuracy\")\n",
    "plt.ylim(None, 1)\n",
    "plt.subplot(1, 2, 2)\n",
    "plot_graphs(history, \"loss\")\n",
    "plt.ylim(0, None)"
   ]
  },
  {
   "cell_type": "markdown",
   "metadata": {},
   "source": [
    "# Evaluate the model"
   ]
  },
  {
   "cell_type": "markdown",
   "metadata": {},
   "source": [
    "Perform a final evaluation of the model on the test set."
   ]
  },
  {
   "cell_type": "code",
   "execution_count": 18,
   "metadata": {
    "execution": {
     "iopub.execute_input": "2021-08-27T18:34:50.938643Z",
     "iopub.status.busy": "2021-08-27T18:34:50.938287Z",
     "iopub.status.idle": "2021-08-27T18:34:53.734540Z",
     "shell.execute_reply": "2021-08-27T18:34:53.733738Z",
     "shell.execute_reply.started": "2021-08-27T18:34:50.938611Z"
    }
   },
   "outputs": [
    {
     "name": "stdout",
     "output_type": "stream",
     "text": [
      "63/63 [==============================] - 3s 44ms/step - loss: 2.3026 - sparse_categorical_accuracy: 0.1000\n",
      "Loss on the test set: 2.302629232406616\n",
      "Accuracy on the test set: 0.10000000149011612\n"
     ]
    }
   ],
   "source": [
    "test_loss, test_accuracy = model.evaluate(test)\n",
    "\n",
    "print(f\"Loss on the test set: {test_loss}\")\n",
    "print(f\"Accuracy on the test set: {test_accuracy}\")"
   ]
  }
 ],
 "metadata": {
  "kernelspec": {
   "display_name": "Python 3",
   "language": "python",
   "name": "python3"
  },
  "language_info": {
   "codemirror_mode": {
    "name": "ipython",
    "version": 3
   },
   "file_extension": ".py",
   "mimetype": "text/x-python",
   "name": "python",
   "nbconvert_exporter": "python",
   "pygments_lexer": "ipython3",
   "version": "3.8.5"
  }
 },
 "nbformat": 4,
 "nbformat_minor": 4
}
