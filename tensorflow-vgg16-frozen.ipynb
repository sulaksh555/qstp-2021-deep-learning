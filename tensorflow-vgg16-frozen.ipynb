{
 "cells": [
  {
   "cell_type": "markdown",
   "metadata": {},
   "source": [
    "# Setup"
   ]
  },
  {
   "cell_type": "markdown",
   "metadata": {},
   "source": [
    "Import the libraries and methods needed for the project."
   ]
  },
  {
   "cell_type": "code",
   "execution_count": 1,
   "metadata": {
    "execution": {
     "iopub.execute_input": "2021-08-27T18:23:18.325917Z",
     "iopub.status.busy": "2021-08-27T18:23:18.325360Z",
     "iopub.status.idle": "2021-08-27T18:23:20.458091Z",
     "shell.execute_reply": "2021-08-27T18:23:20.457133Z",
     "shell.execute_reply.started": "2021-08-27T18:23:18.325808Z"
    }
   },
   "outputs": [],
   "source": [
    "import matplotlib.pyplot as plt\n",
    "import tensorflow as tf\n",
    "from tensorflow.random import set_seed\n",
    "import tensorflow_datasets as tfds\n",
    "from tensorflow.keras import (\n",
    "    Sequential,\n",
    "    Input, \n",
    "    Model\n",
    ")\n",
    "from tensorflow.keras.applications.vgg16 import VGG16\n",
    "from tensorflow.keras.layers import (\n",
    "    Flatten,\n",
    "    Dense,\n",
    "    Dropout\n",
    ")\n",
    "from tensorflow.keras.layers.experimental.preprocessing import (\n",
    "    RandomFlip,\n",
    "    RandomRotation,\n",
    "    RandomZoom\n",
    ")\n",
    "from tensorflow.keras.optimizers import Adam\n",
    "from tensorflow.keras.losses import SparseCategoricalCrossentropy\n",
    "from tensorflow.keras.metrics import SparseCategoricalAccuracy"
   ]
  },
  {
   "cell_type": "markdown",
   "metadata": {},
   "source": [
    "Set the global random number seed to ensure reproducibility."
   ]
  },
  {
   "cell_type": "code",
   "execution_count": 2,
   "metadata": {
    "execution": {
     "iopub.execute_input": "2021-08-27T18:23:31.234252Z",
     "iopub.status.busy": "2021-08-27T18:23:31.233887Z",
     "iopub.status.idle": "2021-08-27T18:23:31.239054Z",
     "shell.execute_reply": "2021-08-27T18:23:31.237770Z",
     "shell.execute_reply.started": "2021-08-27T18:23:31.234219Z"
    }
   },
   "outputs": [],
   "source": [
    "set_seed(555)"
   ]
  },
  {
   "cell_type": "markdown",
   "metadata": {},
   "source": [
    "# Helper function"
   ]
  },
  {
   "cell_type": "markdown",
   "metadata": {},
   "source": [
    "Define a helper function to plot the training and validation metrics."
   ]
  },
  {
   "cell_type": "code",
   "execution_count": 3,
   "metadata": {
    "execution": {
     "iopub.execute_input": "2021-08-27T18:23:34.681592Z",
     "iopub.status.busy": "2021-08-27T18:23:34.681205Z",
     "iopub.status.idle": "2021-08-27T18:23:34.687826Z",
     "shell.execute_reply": "2021-08-27T18:23:34.686778Z",
     "shell.execute_reply.started": "2021-08-27T18:23:34.681558Z"
    }
   },
   "outputs": [],
   "source": [
    "def plot_graphs(history, metric):\n",
    "    plt.plot(history.history[metric])\n",
    "    plt.plot(history.history[\"val_\" + metric], \"\")\n",
    "    plt.xlabel(\"Epochs\")\n",
    "    plt.ylabel(metric)\n",
    "    plt.legend([metric, \"val_\" + metric])"
   ]
  },
  {
   "cell_type": "markdown",
   "metadata": {},
   "source": [
    "# Load the data"
   ]
  },
  {
   "cell_type": "markdown",
   "metadata": {},
   "source": [
    "Load the STL-10 data from the TensorFlow Datasets collection."
   ]
  },
  {
   "cell_type": "code",
   "execution_count": 4,
   "metadata": {
    "execution": {
     "iopub.execute_input": "2021-08-27T18:23:38.942614Z",
     "iopub.status.busy": "2021-08-27T18:23:38.942241Z",
     "iopub.status.idle": "2021-08-27T18:23:40.163676Z",
     "shell.execute_reply": "2021-08-27T18:23:40.162513Z",
     "shell.execute_reply.started": "2021-08-27T18:23:38.942582Z"
    }
   },
   "outputs": [],
   "source": [
    "(train, test), info = tfds.load(name = \"stl10\",\n",
    "                                split = [\"train\", \"test\"],\n",
    "                                shuffle_files = True,\n",
    "                                as_supervised = True,\n",
    "                                with_info = True)"
   ]
  },
  {
   "cell_type": "markdown",
   "metadata": {},
   "source": [
    "# Build the training pipeline"
   ]
  },
  {
   "cell_type": "markdown",
   "metadata": {},
   "source": [
    "Fix the autotune, buffer size and batch size parameters."
   ]
  },
  {
   "cell_type": "code",
   "execution_count": 5,
   "metadata": {
    "execution": {
     "iopub.execute_input": "2021-08-27T18:23:43.948752Z",
     "iopub.status.busy": "2021-08-27T18:23:43.948233Z",
     "iopub.status.idle": "2021-08-27T18:23:43.955129Z",
     "shell.execute_reply": "2021-08-27T18:23:43.954152Z",
     "shell.execute_reply.started": "2021-08-27T18:23:43.948691Z"
    }
   },
   "outputs": [],
   "source": [
    "AUTOTUNE = tf.data.experimental.AUTOTUNE\n",
    "BUFFER_SIZE = info.splits[\"train\"].num_examples\n",
    "BATCH_SIZE = 128"
   ]
  },
  {
   "cell_type": "markdown",
   "metadata": {},
   "source": [
    "Define a function to convert images from the tf.uint8 data type to the tf.float32 data type and normalize them."
   ]
  },
  {
   "cell_type": "code",
   "execution_count": 6,
   "metadata": {
    "execution": {
     "iopub.execute_input": "2021-08-27T18:23:48.246427Z",
     "iopub.status.busy": "2021-08-27T18:23:48.246071Z",
     "iopub.status.idle": "2021-08-27T18:23:48.250771Z",
     "shell.execute_reply": "2021-08-27T18:23:48.249881Z",
     "shell.execute_reply.started": "2021-08-27T18:23:48.246381Z"
    }
   },
   "outputs": [],
   "source": [
    "def NormalizeImage(image, label):\n",
    "    return tf.cast(x = image,\n",
    "                   dtype = tf.float32), label"
   ]
  },
  {
   "cell_type": "markdown",
   "metadata": {},
   "source": [
    "Compose the training pipeline by applying a sequence of transformations:\n",
    "\n",
    "- Caching before shuffling for better performance\n",
    "- Shuffling by setting the shuffle buffer size to be equal to the full dataset size, to ensure true randomness\n",
    "- Batching after shuffling to ensure I get unique batches at each epoch\n",
    "- Ending the pipeline by prefetching for performance reasons"
   ]
  },
  {
   "cell_type": "code",
   "execution_count": 7,
   "metadata": {
    "execution": {
     "iopub.execute_input": "2021-08-27T18:23:51.728389Z",
     "iopub.status.busy": "2021-08-27T18:23:51.728035Z",
     "iopub.status.idle": "2021-08-27T18:23:51.776304Z",
     "shell.execute_reply": "2021-08-27T18:23:51.775472Z",
     "shell.execute_reply.started": "2021-08-27T18:23:51.728357Z"
    }
   },
   "outputs": [],
   "source": [
    "train = train.map(NormalizeImage,\n",
    "                  num_parallel_calls = AUTOTUNE)\n",
    "train = train.cache()\n",
    "train = train.shuffle(BUFFER_SIZE)\n",
    "train = train.batch(BATCH_SIZE)\n",
    "train = train.prefetch(AUTOTUNE)"
   ]
  },
  {
   "cell_type": "markdown",
   "metadata": {},
   "source": [
    "# Build the testing pipeline"
   ]
  },
  {
   "cell_type": "markdown",
   "metadata": {},
   "source": [
    "The testing pipeline is almost identical to the training pipeline, except for two differences:\n",
    "\n",
    "- Shuffling isn't performed\n",
    "- Caching is done after batching, since batches may be the same between epochs"
   ]
  },
  {
   "cell_type": "code",
   "execution_count": 8,
   "metadata": {
    "execution": {
     "iopub.execute_input": "2021-08-27T18:23:55.465616Z",
     "iopub.status.busy": "2021-08-27T18:23:55.465235Z",
     "iopub.status.idle": "2021-08-27T18:23:55.478970Z",
     "shell.execute_reply": "2021-08-27T18:23:55.478004Z",
     "shell.execute_reply.started": "2021-08-27T18:23:55.465583Z"
    }
   },
   "outputs": [],
   "source": [
    "test = test.map(NormalizeImage,\n",
    "                num_parallel_calls = AUTOTUNE)\n",
    "test = test.batch(BATCH_SIZE)\n",
    "test = test.cache()\n",
    "test = test.prefetch(AUTOTUNE)"
   ]
  },
  {
   "cell_type": "markdown",
   "metadata": {},
   "source": [
    "# Define the data augmentation scheme"
   ]
  },
  {
   "cell_type": "markdown",
   "metadata": {},
   "source": [
    "Lay out the data augmentation strategy that will be used to add diversity to the dataset."
   ]
  },
  {
   "cell_type": "code",
   "execution_count": 9,
   "metadata": {
    "execution": {
     "iopub.execute_input": "2021-08-27T18:23:59.300340Z",
     "iopub.status.busy": "2021-08-27T18:23:59.299993Z",
     "iopub.status.idle": "2021-08-27T18:23:59.323804Z",
     "shell.execute_reply": "2021-08-27T18:23:59.323030Z",
     "shell.execute_reply.started": "2021-08-27T18:23:59.300307Z"
    }
   },
   "outputs": [],
   "source": [
    "data_augmentation = Sequential([\n",
    "    RandomFlip(mode = \"horizontal\"),\n",
    "    RandomRotation(factor = 0.1),\n",
    "    RandomZoom(height_factor = [-0.1, 0.1],\n",
    "               width_factor = [-0.1, 0.1])\n",
    "])"
   ]
  },
  {
   "cell_type": "markdown",
   "metadata": {},
   "source": [
    "# Load a pre-trained base"
   ]
  },
  {
   "cell_type": "markdown",
   "metadata": {},
   "source": [
    "Load the pre-trained base of the VGG16 model trained on ImageNet."
   ]
  },
  {
   "cell_type": "code",
   "execution_count": 10,
   "metadata": {
    "execution": {
     "iopub.execute_input": "2021-08-27T18:24:03.370974Z",
     "iopub.status.busy": "2021-08-27T18:24:03.370624Z",
     "iopub.status.idle": "2021-08-27T18:24:03.671505Z",
     "shell.execute_reply": "2021-08-27T18:24:03.670621Z",
     "shell.execute_reply.started": "2021-08-27T18:24:03.370943Z"
    }
   },
   "outputs": [],
   "source": [
    "pretrained_base = VGG16(include_top = False,\n",
    "                        weights = \"imagenet\",\n",
    "                        input_shape = [96, 96, 3])"
   ]
  },
  {
   "cell_type": "markdown",
   "metadata": {},
   "source": [
    "Freeze the pre-trained base so that the learning from the ImageNet dataset is not destroyed during training."
   ]
  },
  {
   "cell_type": "code",
   "execution_count": 11,
   "metadata": {
    "execution": {
     "iopub.execute_input": "2021-08-27T18:24:06.571178Z",
     "iopub.status.busy": "2021-08-27T18:24:06.570838Z",
     "iopub.status.idle": "2021-08-27T18:24:06.576028Z",
     "shell.execute_reply": "2021-08-27T18:24:06.574798Z",
     "shell.execute_reply.started": "2021-08-27T18:24:06.571147Z"
    }
   },
   "outputs": [],
   "source": [
    "pretrained_base.trainable = False"
   ]
  },
  {
   "cell_type": "markdown",
   "metadata": {},
   "source": [
    "# Define the model"
   ]
  },
  {
   "cell_type": "markdown",
   "metadata": {},
   "source": [
    "Define the inputs and outputs."
   ]
  },
  {
   "cell_type": "code",
   "execution_count": 12,
   "metadata": {
    "execution": {
     "iopub.execute_input": "2021-08-27T18:24:10.080252Z",
     "iopub.status.busy": "2021-08-27T18:24:10.079849Z",
     "iopub.status.idle": "2021-08-27T18:24:10.338115Z",
     "shell.execute_reply": "2021-08-27T18:24:10.337270Z",
     "shell.execute_reply.started": "2021-08-27T18:24:10.080215Z"
    }
   },
   "outputs": [],
   "source": [
    "inputs = Input(shape = [96, 96, 3])\n",
    "\n",
    "x = data_augmentation(inputs)\n",
    "\n",
    "x = pretrained_base(x,\n",
    "                    training = False)\n",
    "\n",
    "x = Flatten()(x)\n",
    "\n",
    "x = Dense(units = 512,\n",
    "          activation = \"relu\")(x)\n",
    "\n",
    "x = Dropout(rate = 0.2)(x)\n",
    "\n",
    "outputs = Dense(units = 10,\n",
    "                activation = \"softmax\")(x)"
   ]
  },
  {
   "cell_type": "markdown",
   "metadata": {},
   "source": [
    "Combine the inputs and the outputs to create the model."
   ]
  },
  {
   "cell_type": "code",
   "execution_count": 13,
   "metadata": {
    "execution": {
     "iopub.execute_input": "2021-08-27T18:24:14.178459Z",
     "iopub.status.busy": "2021-08-27T18:24:14.178064Z",
     "iopub.status.idle": "2021-08-27T18:24:14.187373Z",
     "shell.execute_reply": "2021-08-27T18:24:14.186494Z",
     "shell.execute_reply.started": "2021-08-27T18:24:14.178396Z"
    }
   },
   "outputs": [],
   "source": [
    "model = Model(inputs, outputs)"
   ]
  },
  {
   "cell_type": "markdown",
   "metadata": {},
   "source": [
    "View a summary of all layers in the model."
   ]
  },
  {
   "cell_type": "code",
   "execution_count": 14,
   "metadata": {
    "execution": {
     "iopub.execute_input": "2021-08-27T18:24:17.603445Z",
     "iopub.status.busy": "2021-08-27T18:24:17.603089Z",
     "iopub.status.idle": "2021-08-27T18:24:17.614665Z",
     "shell.execute_reply": "2021-08-27T18:24:17.613562Z",
     "shell.execute_reply.started": "2021-08-27T18:24:17.603393Z"
    }
   },
   "outputs": [
    {
     "name": "stdout",
     "output_type": "stream",
     "text": [
      "Model: \"model\"\n",
      "_________________________________________________________________\n",
      "Layer (type)                 Output Shape              Param #   \n",
      "=================================================================\n",
      "input_2 (InputLayer)         [(None, 96, 96, 3)]       0         \n",
      "_________________________________________________________________\n",
      "sequential (Sequential)      (None, 96, 96, 3)         0         \n",
      "_________________________________________________________________\n",
      "vgg16 (Functional)           (None, 3, 3, 512)         14714688  \n",
      "_________________________________________________________________\n",
      "flatten (Flatten)            (None, 4608)              0         \n",
      "_________________________________________________________________\n",
      "dense (Dense)                (None, 512)               2359808   \n",
      "_________________________________________________________________\n",
      "dropout (Dropout)            (None, 512)               0         \n",
      "_________________________________________________________________\n",
      "dense_1 (Dense)              (None, 10)                5130      \n",
      "=================================================================\n",
      "Total params: 17,079,626\n",
      "Trainable params: 2,364,938\n",
      "Non-trainable params: 14,714,688\n",
      "_________________________________________________________________\n"
     ]
    }
   ],
   "source": [
    "model.summary()"
   ]
  },
  {
   "cell_type": "markdown",
   "metadata": {},
   "source": [
    "Observe that the 14.7 million parameters in the convolutional base of VGG16 are frozen."
   ]
  },
  {
   "cell_type": "markdown",
   "metadata": {},
   "source": [
    "# Compile the model"
   ]
  },
  {
   "cell_type": "markdown",
   "metadata": {},
   "source": [
    "Compile the model using an optimizer, a loss function and a metric."
   ]
  },
  {
   "cell_type": "code",
   "execution_count": 15,
   "metadata": {
    "execution": {
     "iopub.execute_input": "2021-08-27T18:24:23.404476Z",
     "iopub.status.busy": "2021-08-27T18:24:23.404118Z",
     "iopub.status.idle": "2021-08-27T18:24:23.427304Z",
     "shell.execute_reply": "2021-08-27T18:24:23.426438Z",
     "shell.execute_reply.started": "2021-08-27T18:24:23.404434Z"
    }
   },
   "outputs": [],
   "source": [
    "model.compile(optimizer = Adam(),\n",
    "              loss = SparseCategoricalCrossentropy(from_logits = True),\n",
    "              metrics = [SparseCategoricalAccuracy()])"
   ]
  },
  {
   "cell_type": "markdown",
   "metadata": {},
   "source": [
    "# Train the model"
   ]
  },
  {
   "cell_type": "markdown",
   "metadata": {},
   "source": [
    "Train the model for 20 epochs."
   ]
  },
  {
   "cell_type": "code",
   "execution_count": 16,
   "metadata": {
    "execution": {
     "iopub.execute_input": "2021-08-27T18:24:37.906233Z",
     "iopub.status.busy": "2021-08-27T18:24:37.905834Z",
     "iopub.status.idle": "2021-08-27T18:26:22.820812Z",
     "shell.execute_reply": "2021-08-27T18:26:22.819911Z",
     "shell.execute_reply.started": "2021-08-27T18:24:37.906197Z"
    }
   },
   "outputs": [
    {
     "name": "stdout",
     "output_type": "stream",
     "text": [
      "Epoch 1/20\n",
      "40/40 [==============================] - 14s 204ms/step - loss: 12.4240 - sparse_categorical_accuracy: 0.4810 - val_loss: 1.5802 - val_sparse_categorical_accuracy: 0.7475\n",
      "Epoch 2/20\n",
      "40/40 [==============================] - 5s 120ms/step - loss: 1.2709 - sparse_categorical_accuracy: 0.6771 - val_loss: 0.9966 - val_sparse_categorical_accuracy: 0.7651\n",
      "Epoch 3/20\n",
      "40/40 [==============================] - 5s 121ms/step - loss: 0.9504 - sparse_categorical_accuracy: 0.7028 - val_loss: 0.9140 - val_sparse_categorical_accuracy: 0.7816\n",
      "Epoch 4/20\n",
      "40/40 [==============================] - 5s 120ms/step - loss: 0.7832 - sparse_categorical_accuracy: 0.7444 - val_loss: 0.8482 - val_sparse_categorical_accuracy: 0.7945\n",
      "Epoch 5/20\n",
      "40/40 [==============================] - 5s 120ms/step - loss: 0.7212 - sparse_categorical_accuracy: 0.7624 - val_loss: 0.8535 - val_sparse_categorical_accuracy: 0.7939\n",
      "Epoch 6/20\n",
      "40/40 [==============================] - 5s 120ms/step - loss: 0.6663 - sparse_categorical_accuracy: 0.7869 - val_loss: 0.8627 - val_sparse_categorical_accuracy: 0.7965\n",
      "Epoch 7/20\n",
      "40/40 [==============================] - 5s 120ms/step - loss: 0.5641 - sparse_categorical_accuracy: 0.8120 - val_loss: 0.8862 - val_sparse_categorical_accuracy: 0.7981\n",
      "Epoch 8/20\n",
      "40/40 [==============================] - 5s 119ms/step - loss: 0.5597 - sparse_categorical_accuracy: 0.8142 - val_loss: 0.8393 - val_sparse_categorical_accuracy: 0.7979\n",
      "Epoch 9/20\n",
      "40/40 [==============================] - 5s 120ms/step - loss: 0.5405 - sparse_categorical_accuracy: 0.8178 - val_loss: 1.0338 - val_sparse_categorical_accuracy: 0.7952\n",
      "Epoch 10/20\n",
      "40/40 [==============================] - 5s 120ms/step - loss: 0.4807 - sparse_categorical_accuracy: 0.8434 - val_loss: 0.8458 - val_sparse_categorical_accuracy: 0.8115\n",
      "Epoch 11/20\n",
      "40/40 [==============================] - 5s 120ms/step - loss: 0.4816 - sparse_categorical_accuracy: 0.8458 - val_loss: 0.9293 - val_sparse_categorical_accuracy: 0.8008\n",
      "Epoch 12/20\n",
      "40/40 [==============================] - 5s 120ms/step - loss: 0.4465 - sparse_categorical_accuracy: 0.8396 - val_loss: 0.9813 - val_sparse_categorical_accuracy: 0.8059\n",
      "Epoch 13/20\n",
      "40/40 [==============================] - 5s 120ms/step - loss: 0.4213 - sparse_categorical_accuracy: 0.8455 - val_loss: 0.9286 - val_sparse_categorical_accuracy: 0.8195\n",
      "Epoch 14/20\n",
      "40/40 [==============================] - 5s 120ms/step - loss: 0.4390 - sparse_categorical_accuracy: 0.8599 - val_loss: 0.9166 - val_sparse_categorical_accuracy: 0.8161\n",
      "Epoch 15/20\n",
      "40/40 [==============================] - 5s 120ms/step - loss: 0.4059 - sparse_categorical_accuracy: 0.8685 - val_loss: 0.9249 - val_sparse_categorical_accuracy: 0.8201\n",
      "Epoch 16/20\n",
      "40/40 [==============================] - 5s 120ms/step - loss: 0.3791 - sparse_categorical_accuracy: 0.8724 - val_loss: 0.9037 - val_sparse_categorical_accuracy: 0.8177\n",
      "Epoch 17/20\n",
      "40/40 [==============================] - 5s 123ms/step - loss: 0.4217 - sparse_categorical_accuracy: 0.8675 - val_loss: 0.9180 - val_sparse_categorical_accuracy: 0.8135\n",
      "Epoch 18/20\n",
      "40/40 [==============================] - 5s 119ms/step - loss: 0.4010 - sparse_categorical_accuracy: 0.8678 - val_loss: 0.9422 - val_sparse_categorical_accuracy: 0.8188\n",
      "Epoch 19/20\n",
      "40/40 [==============================] - 5s 121ms/step - loss: 0.3513 - sparse_categorical_accuracy: 0.8835 - val_loss: 0.8861 - val_sparse_categorical_accuracy: 0.8221\n",
      "Epoch 20/20\n",
      "40/40 [==============================] - 5s 119ms/step - loss: 0.3236 - sparse_categorical_accuracy: 0.8908 - val_loss: 1.1296 - val_sparse_categorical_accuracy: 0.8064\n"
     ]
    }
   ],
   "source": [
    "history = model.fit(train,\n",
    "                    epochs = 20,\n",
    "                    validation_data = test)"
   ]
  },
  {
   "cell_type": "markdown",
   "metadata": {},
   "source": [
    "Plot the training and validation loss and sparse accuracy from the training history."
   ]
  },
  {
   "cell_type": "code",
   "execution_count": 17,
   "metadata": {
    "execution": {
     "iopub.execute_input": "2021-08-27T18:26:55.114276Z",
     "iopub.status.busy": "2021-08-27T18:26:55.113915Z",
     "iopub.status.idle": "2021-08-27T18:26:55.493091Z",
     "shell.execute_reply": "2021-08-27T18:26:55.492098Z",
     "shell.execute_reply.started": "2021-08-27T18:26:55.114241Z"
    }
   },
   "outputs": [
    {
     "data": {
      "text/plain": [
       "(0.0, 7.407608208060265)"
      ]
     },
     "execution_count": 17,
     "metadata": {},
     "output_type": "execute_result"
    },
    {
     "data": {
      "image/png": "[encoded data removed]",
      "text/plain": [
       "<Figure size 1152x576 with 2 Axes>"
      ]
     },
     "metadata": {
      "needs_background": "light"
     },
     "output_type": "display_data"
    }
   ],
   "source": [
    "plt.figure(figsize = [16, 8])\n",
    "plt.subplot(1, 2, 1)\n",
    "plot_graphs(history, \"sparse_categorical_accuracy\")\n",
    "plt.ylim(None, 1)\n",
    "plt.subplot(1, 2, 2)\n",
    "plot_graphs(history, \"loss\")\n",
    "plt.ylim(0, None)"
   ]
  },
  {
   "cell_type": "markdown",
   "metadata": {},
   "source": [
    "# Evaluate the model"
   ]
  },
  {
   "cell_type": "markdown",
   "metadata": {},
   "source": [
    "Perform a final evaluation of the model on the test set."
   ]
  },
  {
   "cell_type": "code",
   "execution_count": 18,
   "metadata": {
    "execution": {
     "iopub.execute_input": "2021-08-27T18:27:11.792309Z",
     "iopub.status.busy": "2021-08-27T18:27:11.791962Z",
     "iopub.status.idle": "2021-08-27T18:27:14.583401Z",
     "shell.execute_reply": "2021-08-27T18:27:14.582591Z",
     "shell.execute_reply.started": "2021-08-27T18:27:11.792278Z"
    }
   },
   "outputs": [
    {
     "name": "stdout",
     "output_type": "stream",
     "text": [
      "63/63 [==============================] - 3s 44ms/step - loss: 1.1296 - sparse_categorical_accuracy: 0.8064\n",
      "Loss on the test set: 1.1295721530914307\n",
      "Accuracy on the test set: 0.8063750267028809\n"
     ]
    }
   ],
   "source": [
    "test_loss, test_accuracy = model.evaluate(test)\n",
    "\n",
    "print(f\"Loss on the test set: {test_loss}\")\n",
    "print(f\"Accuracy on the test set: {test_accuracy}\")"
   ]
  }
 ],
 "metadata": {
  "kernelspec": {
   "display_name": "Python 3",
   "language": "python",
   "name": "python3"
  },
  "language_info": {
   "codemirror_mode": {
    "name": "ipython",
    "version": 3
   },
   "file_extension": ".py",
   "mimetype": "text/x-python",
   "name": "python",
   "nbconvert_exporter": "python",
   "pygments_lexer": "ipython3",
   "version": "3.8.5"
  }
 },
 "nbformat": 4,
 "nbformat_minor": 4
}
